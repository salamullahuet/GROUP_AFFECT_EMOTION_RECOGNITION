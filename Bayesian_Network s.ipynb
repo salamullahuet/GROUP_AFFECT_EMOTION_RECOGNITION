{
  "nbformat": 4,
  "nbformat_minor": 0,
  "metadata": {
    "colab": {
      "name": "Bayesian Network.ipynb",
      "provenance": []
    },
    "kernelspec": {
      "name": "python3",
      "display_name": "Python 3"
    },
    "accelerator": "GPU"
  },
  "cells": [
    {
      "cell_type": "code",
      "metadata": {
        "colab": {
          "base_uri": "https://localhost:8080/"
        },
        "id": "EDU9s8OnYz08",
        "outputId": "42d307ec-7767-4abc-dea0-3e1b8148a422"
      },
      "source": [
        "pip install pgmpy"
      ],
      "execution_count": 2,
      "outputs": [
        {
          "output_type": "stream",
          "text": [
            "Collecting pgmpy\n",
            "\u001b[?25l  Downloading https://files.pythonhosted.org/packages/06/19/d508949e8ac7b32e639f15e854a5f5ed710a4118e4f6692bddaccc390d88/pgmpy-0.1.13-py3-none-any.whl (324kB)\n",
            "\r\u001b[K     |█                               | 10kB 17.8MB/s eta 0:00:01\r\u001b[K     |██                              | 20kB 24.1MB/s eta 0:00:01\r\u001b[K     |███                             | 30kB 20.2MB/s eta 0:00:01\r\u001b[K     |████                            | 40kB 23.1MB/s eta 0:00:01\r\u001b[K     |█████                           | 51kB 24.2MB/s eta 0:00:01\r\u001b[K     |██████                          | 61kB 26.6MB/s eta 0:00:01\r\u001b[K     |███████                         | 71kB 17.8MB/s eta 0:00:01\r\u001b[K     |████████                        | 81kB 18.8MB/s eta 0:00:01\r\u001b[K     |█████████                       | 92kB 17.9MB/s eta 0:00:01\r\u001b[K     |██████████                      | 102kB 18.1MB/s eta 0:00:01\r\u001b[K     |███████████                     | 112kB 18.1MB/s eta 0:00:01\r\u001b[K     |████████████▏                   | 122kB 18.1MB/s eta 0:00:01\r\u001b[K     |█████████████▏                  | 133kB 18.1MB/s eta 0:00:01\r\u001b[K     |██████████████▏                 | 143kB 18.1MB/s eta 0:00:01\r\u001b[K     |███████████████▏                | 153kB 18.1MB/s eta 0:00:01\r\u001b[K     |████████████████▏               | 163kB 18.1MB/s eta 0:00:01\r\u001b[K     |█████████████████▏              | 174kB 18.1MB/s eta 0:00:01\r\u001b[K     |██████████████████▏             | 184kB 18.1MB/s eta 0:00:01\r\u001b[K     |███████████████████▏            | 194kB 18.1MB/s eta 0:00:01\r\u001b[K     |████████████████████▏           | 204kB 18.1MB/s eta 0:00:01\r\u001b[K     |█████████████████████▏          | 215kB 18.1MB/s eta 0:00:01\r\u001b[K     |██████████████████████▏         | 225kB 18.1MB/s eta 0:00:01\r\u001b[K     |███████████████████████▎        | 235kB 18.1MB/s eta 0:00:01\r\u001b[K     |████████████████████████▎       | 245kB 18.1MB/s eta 0:00:01\r\u001b[K     |█████████████████████████▎      | 256kB 18.1MB/s eta 0:00:01\r\u001b[K     |██████████████████████████▎     | 266kB 18.1MB/s eta 0:00:01\r\u001b[K     |███████████████████████████▎    | 276kB 18.1MB/s eta 0:00:01\r\u001b[K     |████████████████████████████▎   | 286kB 18.1MB/s eta 0:00:01\r\u001b[K     |█████████████████████████████▎  | 296kB 18.1MB/s eta 0:00:01\r\u001b[K     |██████████████████████████████▎ | 307kB 18.1MB/s eta 0:00:01\r\u001b[K     |███████████████████████████████▎| 317kB 18.1MB/s eta 0:00:01\r\u001b[K     |████████████████████████████████| 327kB 18.1MB/s \n",
            "\u001b[?25hRequirement already satisfied: tqdm in /usr/local/lib/python3.7/dist-packages (from pgmpy) (4.41.1)\n",
            "Requirement already satisfied: torch in /usr/local/lib/python3.7/dist-packages (from pgmpy) (1.8.0+cu101)\n",
            "Requirement already satisfied: joblib in /usr/local/lib/python3.7/dist-packages (from pgmpy) (1.0.1)\n",
            "Requirement already satisfied: scikit-learn in /usr/local/lib/python3.7/dist-packages (from pgmpy) (0.22.2.post1)\n",
            "Requirement already satisfied: pandas in /usr/local/lib/python3.7/dist-packages (from pgmpy) (1.1.5)\n",
            "Requirement already satisfied: pyparsing in /usr/local/lib/python3.7/dist-packages (from pgmpy) (2.4.7)\n",
            "Requirement already satisfied: scipy in /usr/local/lib/python3.7/dist-packages (from pgmpy) (1.4.1)\n",
            "Requirement already satisfied: networkx in /usr/local/lib/python3.7/dist-packages (from pgmpy) (2.5)\n",
            "Requirement already satisfied: numpy in /usr/local/lib/python3.7/dist-packages (from pgmpy) (1.19.5)\n",
            "Requirement already satisfied: statsmodels in /usr/local/lib/python3.7/dist-packages (from pgmpy) (0.10.2)\n",
            "Requirement already satisfied: typing-extensions in /usr/local/lib/python3.7/dist-packages (from torch->pgmpy) (3.7.4.3)\n",
            "Requirement already satisfied: python-dateutil>=2.7.3 in /usr/local/lib/python3.7/dist-packages (from pandas->pgmpy) (2.8.1)\n",
            "Requirement already satisfied: pytz>=2017.2 in /usr/local/lib/python3.7/dist-packages (from pandas->pgmpy) (2018.9)\n",
            "Requirement already satisfied: decorator>=4.3.0 in /usr/local/lib/python3.7/dist-packages (from networkx->pgmpy) (4.4.2)\n",
            "Requirement already satisfied: patsy>=0.4.0 in /usr/local/lib/python3.7/dist-packages (from statsmodels->pgmpy) (0.5.1)\n",
            "Requirement already satisfied: six>=1.5 in /usr/local/lib/python3.7/dist-packages (from python-dateutil>=2.7.3->pandas->pgmpy) (1.15.0)\n",
            "Installing collected packages: pgmpy\n",
            "Successfully installed pgmpy-0.1.13\n"
          ],
          "name": "stdout"
        }
      ]
    },
    {
      "cell_type": "code",
      "metadata": {
        "id": "-xWVrf8YXMV0"
      },
      "source": [
        "import numpy as np\r\n",
        "import pandas as pd\r\n",
        "from pgmpy.models import BayesianModel\r\n",
        "from pgmpy.inference import VariableElimination\r\n",
        "from pgmpy.factors.discrete import TabularCPD\r\n",
        "from sklearn.preprocessing import normalize"
      ],
      "execution_count": 3,
      "outputs": []
    },
    {
      "cell_type": "code",
      "metadata": {
        "colab": {
          "base_uri": "https://localhost:8080/",
          "height": 191
        },
        "id": "8hvxwJxgYxS0",
        "outputId": "1d665d06-5c40-411f-c713-ccb49ff32a5d"
      },
      "source": [
        "# Assign the file to a variable\r\n",
        "labels_histogram = 'labels_histogram.xlsx'\r\n",
        "\r\n",
        "# Read the file using pandas' as a dataframe\r\n",
        "# sheet_name specifies the sheet to read\r\n",
        "# header = 0 tells pandas to consider the first line as the header\r\n",
        "df = pd.read_excel(labels_histogram, sheet_name=\"labels_histogram\", header=0)\r\n",
        "\r\n",
        "# print the first 5 rows of the dataframe\r\n",
        "df.head()"
      ],
      "execution_count": 4,
      "outputs": [
        {
          "output_type": "execute_result",
          "data": {
            "text/html": [
              "<div>\n",
              "<style scoped>\n",
              "    .dataframe tbody tr th:only-of-type {\n",
              "        vertical-align: middle;\n",
              "    }\n",
              "\n",
              "    .dataframe tbody tr th {\n",
              "        vertical-align: top;\n",
              "    }\n",
              "\n",
              "    .dataframe thead th {\n",
              "        text-align: right;\n",
              "    }\n",
              "</style>\n",
              "<table border=\"1\" class=\"dataframe\">\n",
              "  <thead>\n",
              "    <tr style=\"text-align: right;\">\n",
              "      <th></th>\n",
              "      <th>label</th>\n",
              "      <th>positive</th>\n",
              "      <th>negative</th>\n",
              "      <th>neutral</th>\n",
              "    </tr>\n",
              "  </thead>\n",
              "  <tbody>\n",
              "    <tr>\n",
              "      <th>0</th>\n",
              "      <td>gown</td>\n",
              "      <td>33</td>\n",
              "      <td>0</td>\n",
              "      <td>2</td>\n",
              "    </tr>\n",
              "    <tr>\n",
              "      <th>1</th>\n",
              "      <td>dance</td>\n",
              "      <td>13</td>\n",
              "      <td>0</td>\n",
              "      <td>11</td>\n",
              "    </tr>\n",
              "    <tr>\n",
              "      <th>2</th>\n",
              "      <td>air force</td>\n",
              "      <td>0</td>\n",
              "      <td>1</td>\n",
              "      <td>1</td>\n",
              "    </tr>\n",
              "    <tr>\n",
              "      <th>3</th>\n",
              "      <td>bull</td>\n",
              "      <td>0</td>\n",
              "      <td>25</td>\n",
              "      <td>0</td>\n",
              "    </tr>\n",
              "    <tr>\n",
              "      <th>4</th>\n",
              "      <td>bear</td>\n",
              "      <td>0</td>\n",
              "      <td>1</td>\n",
              "      <td>0</td>\n",
              "    </tr>\n",
              "  </tbody>\n",
              "</table>\n",
              "</div>"
            ],
            "text/plain": [
              "       label  positive  negative  neutral\n",
              "0       gown        33         0        2\n",
              "1      dance        13         0       11\n",
              "2  air force         0         1        1\n",
              "3       bull         0        25        0\n",
              "4       bear         0         1        0"
            ]
          },
          "metadata": {
            "tags": []
          },
          "execution_count": 4
        }
      ]
    },
    {
      "cell_type": "code",
      "metadata": {
        "id": "DL6_5rsvZo2t"
      },
      "source": [
        "# first column of the dataframe\r\n",
        "# skip last row i.e. \"total\"\r\n",
        "labels_list = df['label'][:-1]"
      ],
      "execution_count": 5,
      "outputs": []
    },
    {
      "cell_type": "code",
      "metadata": {
        "id": "Bwc-_c13Zxfg"
      },
      "source": [
        "\r\n",
        "# get the value of the last row in the positive column of the dataframe\r\n",
        "total_positive_labels = df['positive'].iloc[-1]\r\n",
        "\r\n",
        "# get the value of the last row in the neutral column of the dataframe\r\n",
        "total_neutral_labels = df['neutral'].iloc[-1]\r\n",
        "\r\n",
        "# get the value of the last row in the negative column of the dataframe\r\n",
        "total_negative_labels = df['negative'].iloc[-1]"
      ],
      "execution_count": 6,
      "outputs": []
    },
    {
      "cell_type": "code",
      "metadata": {
        "id": "-UXEtLpQZ9aS"
      },
      "source": [
        "# get the column with the name \"positive\" as a numpy array\r\n",
        "# skip last row\r\n",
        "positive_ndarray = np.array(df['positive'][:-1])\r\n",
        "\r\n",
        "# get the column with the name \"neutral\" as a numpy array\r\n",
        "# skip last row\r\n",
        "neutral_ndarray = np.array(df['neutral'][:-1])\r\n",
        "\r\n",
        "# get the column with the name \"negative\" as a numpy array\r\n",
        "# skip last row\r\n",
        "negative_ndarray = np.array(df['negative'][:-1])"
      ],
      "execution_count": 7,
      "outputs": []
    },
    {
      "cell_type": "code",
      "metadata": {
        "id": "inGXZEaNaJjr"
      },
      "source": [
        "# edge from Emotion node to each label node i.e. 809 edges\r\n",
        "edges_list = [(\"Emotion\", label) for label in labels_list]\r\n",
        "# edge from Emotion node to CNN node\r\n",
        "edges_list.append((\"Emotion\", \"CNN\"))"
      ],
      "execution_count": 8,
      "outputs": []
    },
    {
      "cell_type": "code",
      "metadata": {
        "id": "p-PjCsaLaSm5"
      },
      "source": [
        "model = BayesianModel()"
      ],
      "execution_count": 9,
      "outputs": []
    },
    {
      "cell_type": "code",
      "metadata": {
        "id": "avfov_yiaY4k"
      },
      "source": [
        "# Add all the labels from labels_list as nodes\r\n",
        "model.add_nodes_from(labels_list)\r\n",
        "# Add all the edges from edges_list\r\n",
        "model.add_edges_from(edges_list)"
      ],
      "execution_count": 10,
      "outputs": []
    },
    {
      "cell_type": "code",
      "metadata": {
        "id": "_BTF2IWaaeuz"
      },
      "source": [
        "#Name of the node is \"Emotion\"\r\n",
        "# Total variables = 3 i.e. 1 for each emotion\r\n",
        "# Since, each emotion is equally likely so each will have 1/3 probability\r\n",
        "emotion_cpd = TabularCPD(\"Emotion\", 3, values=[[1./3],[1./3],[1./3]])"
      ],
      "execution_count": 14,
      "outputs": []
    },
    {
      "cell_type": "code",
      "metadata": {
        "colab": {
          "base_uri": "https://localhost:8080/"
        },
        "id": "HG6hG5jeapw0",
        "outputId": "67a22279-c647-489a-a464-598d122bedbd"
      },
      "source": [
        "print(emotion_cpd)"
      ],
      "execution_count": 15,
      "outputs": [
        {
          "output_type": "stream",
          "text": [
            "+------------+----------+\n",
            "| Emotion(0) | 0.333333 |\n",
            "+------------+----------+\n",
            "| Emotion(1) | 0.333333 |\n",
            "+------------+----------+\n",
            "| Emotion(2) | 0.333333 |\n",
            "+------------+----------+\n"
          ],
          "name": "stdout"
        }
      ]
    },
    {
      "cell_type": "code",
      "metadata": {
        "id": "Tfq1aaWscGHK"
      },
      "source": [
        "# Store the confusion matrix obtained from CNN as a numpy array\r\n",
        "cnn_confusion_matrix = np.array([[470.0,92.0,198.0],\r\n",
        "                                [38.0, 336.0, 130.0],\r\n",
        "                                [46.0, 201.0, 418.0]])\r\n",
        "# Normalize the confusion matrix\r\n",
        "cnn_confusion_matrix = normalize(cnn_confusion_matrix, axis=1, norm=\"l1\")\r\n",
        "# CNN CPD values will be the transpose of the confusion matrix\r\n",
        "cnn_values = cnn_confusion_matrix.T"
      ],
      "execution_count": 16,
      "outputs": []
    },
    {
      "cell_type": "code",
      "metadata": {
        "id": "6DHQrNbfcP0k"
      },
      "source": [
        "# Name of the node is \"CNN\"\r\n",
        "# Total variables = 3 i.e. 1 for each emotion\r\n",
        "# Set the Emotion node as the evidence\r\n",
        "cnn_cpd = TabularCPD(\"CNN\", 3, evidence=['Emotion'], evidence_card=[3], values=cnn_values)"
      ],
      "execution_count": 17,
      "outputs": []
    },
    {
      "cell_type": "code",
      "metadata": {
        "colab": {
          "base_uri": "https://localhost:8080/"
        },
        "id": "nuepQNa2cX2l",
        "outputId": "cff7fc81-7889-4d4f-e977-cf97b4f4f95e"
      },
      "source": [
        "print(cnn_cpd)"
      ],
      "execution_count": 18,
      "outputs": [
        {
          "output_type": "stream",
          "text": [
            "+---------+---------------------+---------------------+---------------------+\n",
            "| Emotion | Emotion(0)          | Emotion(1)          | Emotion(2)          |\n",
            "+---------+---------------------+---------------------+---------------------+\n",
            "| CNN(0)  | 0.618421052631579   | 0.07539682539682539 | 0.06917293233082707 |\n",
            "+---------+---------------------+---------------------+---------------------+\n",
            "| CNN(1)  | 0.12105263157894737 | 0.6666666666666666  | 0.3022556390977444  |\n",
            "+---------+---------------------+---------------------+---------------------+\n",
            "| CNN(2)  | 0.26052631578947366 | 0.25793650793650796 | 0.6285714285714286  |\n",
            "+---------+---------------------+---------------------+---------------------+\n"
          ],
          "name": "stdout"
        }
      ]
    },
    {
      "cell_type": "code",
      "metadata": {
        "id": "edzRUDSlcstc"
      },
      "source": [
        "# create a list to store each label cpd\r\n",
        "label_cpd_list = []\r\n",
        "\r\n",
        "for i in range(len(labels_list)):\r\n",
        "    # P(label=1|Emotion=Positive)\r\n",
        "    p_label_1_given_emo_positive = float(positive_ndarray[i]/total_positive_labels)\r\n",
        "    # P(label=1|Emotion=Neutral)\r\n",
        "    p_label_1_given_emo_neutral = float(neutral_ndarray[i]/total_neutral_labels)\r\n",
        "    # P(label=1|Emotion=Negative)\r\n",
        "    p_label_1_given_emo_negative = float(negative_ndarray[i]/total_negative_labels)\r\n",
        "    \r\n",
        "    # if P(label=1|Emotion=Positive) is 0, set it to 0.0001 to fix the error\r\n",
        "    if p_label_1_given_emo_positive == 0.0:\r\n",
        "        p_label_1_given_emo_positive = 0.0001\r\n",
        "\r\n",
        "    # if P(label=1|Emotion=Neutral) is 0, set it to 0.0001 to fix the error\r\n",
        "    if p_label_1_given_emo_neutral == 0.0:\r\n",
        "        p_label_1_given_emo_neutral = 0.0001\r\n",
        "\r\n",
        "    # if P(label=1|Emotion=Negative) is 0, set it to 0.0001 to fix the error  \r\n",
        "    if p_label_1_given_emo_negative == 0.0:\r\n",
        "        p_label_1_given_emo_negative = 0.0001\r\n",
        "    \r\n",
        "    # P(label=0|Emotion=Positive)\r\n",
        "    p_label_0_given_emo_positive = 1.0 - p_label_1_given_emo_positive\r\n",
        "    # P(label=0|Emotion=Neutal)\r\n",
        "    p_label_0_given_emo_neutral = 1.0 - p_label_1_given_emo_neutral\r\n",
        "    # P(label=0|Emotion=Negative)\r\n",
        "    p_label_0_given_emo_negative = 1.0 - p_label_1_given_emo_negative\r\n",
        "    \r\n",
        "    # Condition Probability Table for the label\r\n",
        "    label_conditional_probability_table = [[p_label_0_given_emo_positive, p_label_0_given_emo_negative, p_label_0_given_emo_neutral], \r\n",
        "                                            [p_label_1_given_emo_positive, p_label_1_given_emo_negative, p_label_1_given_emo_neutral]]\r\n",
        "    \r\n",
        "    # generate the conditional probability table for that label\r\n",
        "    # Name of the node is the name of the label\r\n",
        "    # Total variables = 2 i.e. either 1 or 0\r\n",
        "    # Set the Emotion node as the evidence\r\n",
        "    label_cpd = TabularCPD(labels_list[i], 2, evidence=['Emotion'], evidence_card=[3], values=label_conditional_probability_table)\r\n",
        "\r\n",
        "#         print(cpd_label)\r\n",
        "#         ╒═════════╤══════════════════════╤═══════════╤═══════════════════════╕\r\n",
        "#         │ Emotion │ Emotion_0            │ Emotion_1 │ Emotion_2             │\r\n",
        "#         ├─────────┼──────────────────────┼───────────┼───────────────────────┤\r\n",
        "#         │ gown_0  │ 0.974076983503535    │ 1.0       │ 0.9983333333333333    │\r\n",
        "#         ├─────────┼──────────────────────┼───────────┼───────────────────────┤\r\n",
        "#         │ gown_1  │ 0.025923016496465043 │ 0.0       │ 0.0016666666666666668 │\r\n",
        "#         ╘═════════╧══════════════════════╧═══════════╧═══════════════════════╛\r\n",
        "\r\n",
        "    # add it to the list\r\n",
        "    label_cpd_list.append(label_cpd)"
      ],
      "execution_count": 19,
      "outputs": []
    },
    {
      "cell_type": "code",
      "metadata": {
        "id": "ymkLHwxUc5Zh"
      },
      "source": [
        "# Add the emotion and CNN nodes to the model\r\n",
        "model.add_cpds(emotion_cpd, cnn_cpd)\r\n",
        "# Add the cpd for each label\r\n",
        "for label_cpd in label_cpd_list: model.add_cpds(label_cpd)"
      ],
      "execution_count": 20,
      "outputs": []
    },
    {
      "cell_type": "code",
      "metadata": {
        "colab": {
          "base_uri": "https://localhost:8080/"
        },
        "id": "_f_tDngsc-aQ",
        "outputId": "c7156f35-6d63-41ea-fc36-ad571525dcad"
      },
      "source": [
        "print(model.check_model())  # returns True if the model is correct"
      ],
      "execution_count": 21,
      "outputs": [
        {
          "output_type": "stream",
          "text": [
            "True\n"
          ],
          "name": "stdout"
        }
      ]
    },
    {
      "cell_type": "code",
      "metadata": {
        "colab": {
          "base_uri": "https://localhost:8080/"
        },
        "id": "RtJqCNzGdLvv",
        "outputId": "f594f2d3-170b-4879-af2f-2670debc0569"
      },
      "source": [
        "# print the first 10 cpds from the model\r\n",
        "model.get_cpds()[:10]"
      ],
      "execution_count": 22,
      "outputs": [
        {
          "output_type": "execute_result",
          "data": {
            "text/plain": [
              "[<TabularCPD representing P(Emotion:3) at 0x7feda6c54950>,\n",
              " <TabularCPD representing P(CNN:3 | Emotion:3) at 0x7fedab02acd0>,\n",
              " <TabularCPD representing P(gown:2 | Emotion:3) at 0x7feda66c1050>,\n",
              " <TabularCPD representing P(dance:2 | Emotion:3) at 0x7feda66c1d90>,\n",
              " <TabularCPD representing P(air force:2 | Emotion:3) at 0x7feda66c1590>,\n",
              " <TabularCPD representing P(bull:2 | Emotion:3) at 0x7feda66c1290>,\n",
              " <TabularCPD representing P(bear:2 | Emotion:3) at 0x7feda66c18d0>,\n",
              " <TabularCPD representing P(yellow:2 | Emotion:3) at 0x7feda6719250>,\n",
              " <TabularCPD representing P(tv personality:2 | Emotion:3) at 0x7feda6719b10>,\n",
              " <TabularCPD representing P(protest:2 | Emotion:3) at 0x7feda6719d90>]"
            ]
          },
          "metadata": {
            "tags": []
          },
          "execution_count": 22
        }
      ]
    },
    {
      "cell_type": "code",
      "metadata": {
        "colab": {
          "base_uri": "https://localhost:8080/"
        },
        "id": "dcvBF4rAdPMy",
        "outputId": "57f939bd-1076-4100-e74b-5b498a6e5bb6"
      },
      "source": [
        "# print the cpd for the emotion node\r\n",
        "print(model.get_cpds('Emotion'))"
      ],
      "execution_count": 23,
      "outputs": [
        {
          "output_type": "stream",
          "text": [
            "+------------+----------+\n",
            "| Emotion(0) | 0.333333 |\n",
            "+------------+----------+\n",
            "| Emotion(1) | 0.333333 |\n",
            "+------------+----------+\n",
            "| Emotion(2) | 0.333333 |\n",
            "+------------+----------+\n"
          ],
          "name": "stdout"
        }
      ]
    },
    {
      "cell_type": "code",
      "metadata": {
        "id": "U40_TSBBdkag"
      },
      "source": [
        "# get labels for the image from Vision API\r\n",
        "labels_for_image = ['people', 'friendship', 'fun', 'event', 'drinking', 'happy', 'picnic', 'recreation', 'smile', 'leisure']\r\n",
        "\r\n",
        "# if detected label is present in labels list then set that label to 1 else 0\r\n",
        "label_evidences = {label:(1 if label in labels_for_image else 0) for label in labels_list}\r\n",
        "\r\n",
        "# get prediction from CNN\r\n",
        "label_evidences['CNN'] = 0"
      ],
      "execution_count": 24,
      "outputs": []
    },
    {
      "cell_type": "code",
      "metadata": {
        "colab": {
          "base_uri": "https://localhost:8080/"
        },
        "id": "Y-WI__HYeomB",
        "outputId": "e4c0a6b1-13c7-4a85-d7c8-886ec9704249"
      },
      "source": [
        "# Set the inference method\r\n",
        "emotion_infer = VariableElimination(model)\r\n",
        "\r\n",
        "# Compute the probability of the emotions given the detected labels list\r\n",
        "joint = emotion_infer.query(['Emotion'], evidence=label_evidences)\r\n",
        "print(joint)"
      ],
      "execution_count": 26,
      "outputs": [
        {
          "output_type": "stream",
          "text": [
            "Finding Elimination Order: : : 0it [00:00, ?it/s]\n",
            "0it [00:00, ?it/s]"
          ],
          "name": "stderr"
        },
        {
          "output_type": "stream",
          "text": [
            "+------------+----------------+\n",
            "| Emotion    |   phi(Emotion) |\n",
            "+============+================+\n",
            "| Emotion(0) |         0.9981 |\n",
            "+------------+----------------+\n",
            "| Emotion(1) |         0.0000 |\n",
            "+------------+----------------+\n",
            "| Emotion(2) |         0.0019 |\n",
            "+------------+----------------+\n"
          ],
          "name": "stdout"
        },
        {
          "output_type": "stream",
          "text": [
            "\n"
          ],
          "name": "stderr"
        }
      ]
    },
    {
      "cell_type": "code",
      "metadata": {
        "id": "de5CyIRfeJAw"
      },
      "source": [
        ""
      ],
      "execution_count": null,
      "outputs": []
    }
  ]
}